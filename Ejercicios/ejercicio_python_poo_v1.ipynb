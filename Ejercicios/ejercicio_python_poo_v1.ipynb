{
  "cells": [
    {
      "cell_type": "markdown",
      "id": "0056d580",
      "metadata": {
        "id": "0056d580"
      },
      "source": [
        "# Programación Orientada a Objetos (POO)"
      ]
    },
    {
      "cell_type": "markdown",
      "id": "d70cc38a",
      "metadata": {
        "id": "d70cc38a"
      },
      "source": [
        "## Qué es la POO\n",
        "\n",
        "Se trata de un paradigma de programación, es decir, de la manera en la que vamos a pensar a la hora de picar un código. Claro que también tiene una sintaxis y unos elementos propios, pero sobre todo, como digo, la manera de enfocarlo.\n",
        "\n",
        "Existen otros paradigmas (programación funcional, orientada a componentes, etc), pero Python es un lenguaje muy preparado para la programación orientada a objetos (aunque no tanto como por ejemplo Java, que es exclusivamente orientado a objetos) y es lo que vamos a ver.\n",
        "\n",
        "Tenemos que empezar a entender que lo que programamos son entidades (objetos, cosas). Esos objetos tienen una serie de propiedades (atributos) y son capaces de realizar una serie de acciones (métodos).\n",
        "\n",
        "Además tenemos que distinguir, una cosa es la definición del objeto, lo que la cosa que estoy programando es (la clase) y otra diferente son las distintas cosas concretas que pertenecen a esa clase (instancias), o sea, que son de ese tipo.\n",
        "\n",
        "A la hora de la práctica, una clase se define con la cláusula class. El nombre de la clase, por convención, debe ir con la primera en mayúscula.\n",
        "\n",
        "Investigad eso. Primero:\n",
        "\n",
        "- Qué es una clase y qué una instancia, y cómo se declaran en Python\n",
        "\n",
        "Luego:\n",
        "\n",
        "- Qué es un atributo y qué es un método, y cómo se declaran en Python"
      ]
    },
    {
      "cell_type": "markdown",
      "id": "bead1445",
      "metadata": {},
      "source": [
        "## Qué es una clase y qué es una instancia, y cómo se declaran en Python"
      ]
    },
    {
      "cell_type": "markdown",
      "id": "44f8c696",
      "metadata": {},
      "source": [
        "En programación orientada a objetos (POO), una clase y una instancia son dos conceptos fundamentales. "
      ]
    },
    {
      "cell_type": "markdown",
      "id": "96cf0778",
      "metadata": {},
      "source": [
        "### Clase\n",
        "Una clase es un modelo o plantilla que define un tipo de objeto. En otras palabras, una clase es una estructura que puede contener atributos (variables) y métodos (funciones) que definen el comportamiento de los objetos que se crean a partir de la clase.\n",
        "\n",
        "Para declarar una clase en Python, utilizamos la palabra clave `class` seguida del nombre de la clase. Aquí tienes un ejemplo básico:"
      ]
    },
    {
      "cell_type": "code",
      "execution_count": 213,
      "id": "8a71b771",
      "metadata": {},
      "outputs": [],
      "source": [
        "# class Persona: define una nueva clase llamada Persona.\n",
        "class Persona:\n",
        "    # El método `__init__` es un constructor que se llama automáticamente cuando se crea una nueva instancia de la clase. Aquí, inicializa los atributos `nombre` y `edad`\n",
        "    def __init__(self, nombre, edad):\n",
        "        # `self` es una referencia a la referencia actual de la clase, y se usa para acceder a las variables y métodos asociados con la instancia.\n",
        "        self.nombre = nombre\n",
        "        self.edad = edad\n",
        "    \n",
        "    # El método saludar es un ejemplo que se puede llamar en las instancias de la clase.\n",
        "    def saludar(self):\n",
        "        print(f\"Hola, mi nombre es {self.nombre} y tengo {self.edad} años.\")"
      ]
    },
    {
      "cell_type": "markdown",
      "id": "3ae1a8cf",
      "metadata": {},
      "source": [
        "### Instancia"
      ]
    },
    {
      "cell_type": "markdown",
      "id": "4817fe73",
      "metadata": {},
      "source": [
        "Una instancia es un objeto concreto creado a partir de una clase. Cuando creamos una instancia, estamos creando un objeto que sigue el modelo definido por la clase.\n",
        "\n",
        "Para crear una instancia de una clase en Python, simplemente llamamaos a la clase como si fuera una función:"
      ]
    },
    {
      "cell_type": "code",
      "execution_count": 214,
      "id": "35dff54c",
      "metadata": {},
      "outputs": [
        {
          "name": "stdout",
          "output_type": "stream",
          "text": [
            "Hola, mi nombre es Erika y tengo 47 años.\n",
            "Hola, mi nombre es Alberto y tengo 51 años.\n"
          ]
        }
      ],
      "source": [
        "# Crear una instancia de la clase Persona\n",
        "persona1 = Persona(\"Erika\", 47) \n",
        "persona2 = Persona(\"Alberto\", 51)\n",
        "\n",
        "# Llamar a un método en las instancias\n",
        "persona1.saludar() # Output: Hola, mi nombre es Erika y tengo 47 años.\n",
        "persona2.saludar() # Output: Hola, mi nombre es Alberto y tengo 51 años."
      ]
    },
    {
      "cell_type": "markdown",
      "id": "77d0262b",
      "metadata": {},
      "source": [
        "Resumen\n",
        "- Clase: Es una plantilla para crear objetos. Define atributos y métodos comunes a todos los objetos de ese tipo.\n",
        "- Instancia: Es un objeto individual creado a partir de una clase. Cada instancia puede tener diferentes valores para los atributos definidos en la clase."
      ]
    },
    {
      "cell_type": "markdown",
      "metadata": {},
      "source": [
        "## Qué es un atributo y qué es un método, y cómo se declaran en Python"
      ]
    },
    {
      "cell_type": "markdown",
      "id": "6a8188e9",
      "metadata": {},
      "source": [
        "## Atributos"
      ]
    },
    {
      "cell_type": "markdown",
      "id": "bcb6f861",
      "metadata": {},
      "source": [
        "Los atributos son variables que pertenecen a una clase o a una instancia de una clase. Representan las propiedades o características de un objeto. Hay dos tipos principales de atributos:\n",
        "\n",
        "1. **Atributos de instancia:** Son atributos que pertenecen a una instancia específica de una clase. cada instancia puede tener diferentes valores para estos atributos.\n",
        "2. **Atributos de clase:** Son atributos que pertenecen a la clase en sí y son compartidos por todas las instancias de esa clase."
      ]
    },
    {
      "cell_type": "markdown",
      "id": "8bf279e4",
      "metadata": {},
      "source": [
        "### Declaración de Atributos en Python"
      ]
    },
    {
      "cell_type": "markdown",
      "id": "9dbc8a82",
      "metadata": {},
      "source": [
        "1. Atributos de instancia: Se definen generalmente dentro del método `__init__`usando `self`."
      ]
    },
    {
      "cell_type": "code",
      "execution_count": 215,
      "id": "97c7d73a",
      "metadata": {},
      "outputs": [
        {
          "name": "stdout",
          "output_type": "stream",
          "text": [
            "Juan\n",
            "25\n"
          ]
        }
      ],
      "source": [
        "class Persona:\n",
        "    def __init__(self, nombre, edad):\n",
        "        self.nombre = nombre # Atributo de instancia\n",
        "        self.edad = edad # Atributo de instancia\n",
        "\n",
        "# Crear instancias\n",
        "persona1 = Persona(\"Juan\", 30)\n",
        "persona2 = Persona(\"María\", 25)\n",
        "\n",
        "print(persona1.nombre) # Output: Juan\n",
        "print(persona2.edad) # Output: 25"
      ]
    },
    {
      "cell_type": "markdown",
      "id": "c45a210a",
      "metadata": {},
      "source": [
        "2. Atributos de clase: Se definen directamente en la clase y se acceden usando el nombre de la clase o `self`"
      ]
    },
    {
      "cell_type": "code",
      "execution_count": 216,
      "id": "c52c5417",
      "metadata": {},
      "outputs": [
        {
          "name": "stdout",
          "output_type": "stream",
          "text": [
            "Humano\n",
            "Humano\n"
          ]
        }
      ],
      "source": [
        "class Persona:\n",
        "    especie = \"Humano\" # Atributo de clase\n",
        "\n",
        "    def __init__(self, nombre, edad):\n",
        "        self.nombre = nombre # Atributo de instancia\n",
        "        self.edad = edad # Atributo de instancia\n",
        "\n",
        "# Crear instancias\n",
        "persona1 = Persona(\"Juan\", 30)\n",
        "persona2 = Persona(\"María\", 25)\n",
        "\n",
        "print(persona1.especie) # Output: Humano\n",
        "print(persona2.especie) # Output: Humano"
      ]
    },
    {
      "cell_type": "markdown",
      "id": "3de76160",
      "metadata": {},
      "source": [
        "## Métodos"
      ]
    },
    {
      "cell_type": "markdown",
      "id": "9aa84055",
      "metadata": {},
      "source": [
        "Los métodos son funciones que se definen dentro de una clase y describen los comportamientos que los objetos de esa clase pueden realizar. Los métodos pueden operar sobre los datos de la instancia (atributos de instancia) y de la clase (atributos de clase)."
      ]
    },
    {
      "cell_type": "markdown",
      "id": "117835f3",
      "metadata": {},
      "source": [
        "### Declaración de Método en Python\n",
        "\n",
        "Los métodos se declaran de manera similar a las funciones, pero se definen dentro de una clase. El primer parámetro de un método es siempre `self`, que se refiere a la instancia actual de la clase."
      ]
    },
    {
      "cell_type": "code",
      "execution_count": 217,
      "id": "9dd5b069",
      "metadata": {},
      "outputs": [
        {
          "name": "stdout",
          "output_type": "stream",
          "text": [
            "Hola, mi nombre es Juan y tengo 30 años.\n",
            "Juan ahora tiene 31 años.\n"
          ]
        }
      ],
      "source": [
        "class Persona:\n",
        "    def __init__(self, nombre, edad):\n",
        "        self.nombre = nombre\n",
        "        self.edad = edad\n",
        "    \n",
        "    def saludar(self):\n",
        "        print(f\"Hola, mi nombre es {self.nombre} y tengo {self.edad} años.\")\n",
        "\n",
        "    def cumplir_anos(self):\n",
        "        self.edad += 1\n",
        "        print(f\"{self.nombre} ahora tiene {self.edad} años.\")\n",
        "\n",
        "# Crear una instancia y llamar a métodos\n",
        "persona1 = Persona(\"Juan\", 30)\n",
        "persona1.saludar() # Output: Hola, mi nombre es Juan y tento 30 años.\n",
        "persona1.cumplir_anos() # Output: Juan ahora tiene 31 años."
      ]
    },
    {
      "cell_type": "markdown",
      "id": "a4beffb8",
      "metadata": {},
      "source": [
        "### Resumen\n",
        "- **Atributos:** Variable que pertenecen a una clase o a una instancia de uan clase. Pueden ser de instancia o de clase.\n",
        "- **Métodos:** Funciones definidas dentro de una clase que describen lso comportamientos de los objetos de esa clase."
      ]
    },
    {
      "cell_type": "markdown",
      "id": "3a0fbd63",
      "metadata": {
        "id": "3a0fbd63"
      },
      "source": [
        "## POO Ejercicio 1:\n",
        "\n",
        "Programad una clase Coche. Debe tener un atributo que sea el número de ruedas que tiene, el kilometraje total y el kilometraje relativo.\n",
        "\n",
        "Además tiene que tener un método \"movimiento\", que le suma 10km al kilometraje total y al relativo, otro método que reinicia el kilometraje relativo a 0, otro que me imprime cual es el kilometraje total y otro que me imprime cuál es el kilometraje relativo.\n",
        "\n",
        "Después instanciad el objeto en una variable y utilizad el método para que se mueva. Despues el método para que os diga el kilometraje (y veis si ha aumentado). Luego, el que lo imprime. Probad tambien a reiniciar el kilometraje relativo, y en general jugad un poco con ello"
      ]
    },
    {
      "cell_type": "code",
      "execution_count": 218,
      "id": "3218fdba",
      "metadata": {
        "id": "3218fdba"
      },
      "outputs": [
        {
          "name": "stdout",
          "output_type": "stream",
          "text": [
            "El coche tiene 4 ruedas, 100 kilometraje(s) en total, 50 kilometraje(s) relativo\n",
            "La kilometraje total es 110 y la kilometraje relativa es 60\n",
            "kilometraje relativa reiniciada\n",
            "La kilometraje total es 110\n",
            "La kilometraje relativa ahora es 0\n"
          ]
        }
      ],
      "source": [
        "class Coche:\n",
        "    def __init__(self, num_ruedas, km_total, km_relativa):\n",
        "        self.num_ruedas = num_ruedas\n",
        "        self.km_total = km_total\n",
        "        self.km_relativa = km_relativa\n",
        "        print(f\"El coche tiene {num_ruedas} ruedas, {km_total} kilometraje(s) en total, {km_relativa} kilometraje(s) relativo\")\n",
        "\n",
        "    def movimiento(self):\n",
        "        self.km_total += 10\n",
        "        self.km_relativa +=10\n",
        "        print(f\"La kilometraje total es {self.km_total} y la kilometraje relativa es {self.km_relativa}\")\n",
        "\n",
        "    def reiniciar_km_relativa(self):\n",
        "        self.km_relativa = 0\n",
        "        print(\"kilometraje relativa reiniciada\")\n",
        "\n",
        "    def imprimir_km_total(self):\n",
        "        print(\"La kilometraje total es\", self.km_total)\n",
        "\n",
        "    def imprimir_km_relativa(self):\n",
        "        print(\"La kilometraje relativa ahora es\", self.km_relativa)\n",
        "\n",
        "coche1 = Coche(4, 100, 50) # Instacia el objeto en una variable\n",
        "coche1.movimiento() # usa el método para que se mueva el ojeto `coche1`\n",
        "coche1.reiniciar_km_relativa() \n",
        "coche1.imprimir_km_total()\n",
        "coche1.imprimir_km_relativa()"
      ]
    },
    {
      "cell_type": "markdown",
      "id": "8a3ad0eb",
      "metadata": {},
      "source": [
        "Otras soluciones para el mismo ejercicio\n",
        "[Solución Alberto Carrillo](https://github.com/AI-School-F5-P3/Ejercicios_Python/blob/main/ejercicio_python_poo_v1.ipynb)"
      ]
    },
    {
      "cell_type": "code",
      "execution_count": 219,
      "id": "25f9637b",
      "metadata": {},
      "outputs": [
        {
          "name": "stdout",
          "output_type": "stream",
          "text": [
            "0\n",
            "0\n",
            "10\n",
            "10\n",
            "10\n",
            "0\n"
          ]
        }
      ],
      "source": [
        "# Definición sin constructor\n",
        "\n",
        "class coches: \n",
        "    #Definición de atributos\n",
        "    ruedas = 4\n",
        "    km_total = 0\n",
        "    km_rel = 0\n",
        "    #Definición de métodos\n",
        "    def movimiento(self):\n",
        "        self.km_total += 10\n",
        "        self.km_rel += 10\n",
        "    def restart(self):\n",
        "        self.km_rel = 0\n",
        "    def print_total(self):\n",
        "        print(self.km_total)\n",
        "    def print_rel(self):\n",
        "        print(self.km_rel)\n",
        "\n",
        "\n",
        "#Pruebas de funcionamiento (Chamando la clase y sus metodos)\n",
        "coches_inst = coches() #Instancia coches, 4 ruedas, 0 km_total, 0 km_rel\n",
        "coches_inst.print_total() #0\n",
        "coches_inst.print_rel() #0\n",
        "coches_inst.movimiento() #añade 10\n",
        "coches_inst.print_total() #10\n",
        "coches_inst.print_rel() #10\n",
        "coches_inst.restart() #km_rel a 0\n",
        "coches_inst.print_total() #10 \n",
        "coches_inst.print_rel() #0"
      ]
    },
    {
      "cell_type": "markdown",
      "id": "f35163f0",
      "metadata": {
        "id": "f35163f0"
      },
      "source": [
        "## Métodos mágicos:\n",
        "\n",
        "Existen métodos de las clases que vienen ya definidas por python y que tienen comportamientos especiales (y que son necesarios). Estos métodos (se llaman métodos magicos), empiezan y acaban por una doble barra baja \\_\\_. Por ejemplo \\_\\_init\\_\\_. Este último método es especialmente importante y debéis aprender cómo funciona. Pero no es el único, por ejemplo \\_\\_str\\_\\_, \\_\\_repr\\_\\_, \\_\\_call\\_\\_, \\_\\_iter\\_\\_, \\_\\_next\\_\\_, etc. Investigad lo que se puede hacer.\n",
        "\n",
        "**\\_\\_init\\_\\_** se llama al instanciar un objeto y es el constructor de dicha instancia. Por tanto es probablemente el mas usado. Nos permite pasarle parámetros a la hora de la construcción para que el objeto se inicialice bajo ciertas condiciones.\n",
        "\n",
        "**\\_\\_str\\_\\_**\n",
        "\n",
        "**\\_\\_repr\\_\\_**\n",
        "\n",
        "**\\_\\_call\\_\\_**\n",
        "\n",
        "**\\_\\_iter\\_\\_**\n",
        "\n",
        "**\\_\\_next\\_\\_**\n",
        "\n"
      ]
    },
    {
      "cell_type": "markdown",
      "id": "7b1c353d",
      "metadata": {},
      "source": [
        "### Métodos Mágicos Comunes"
      ]
    },
    {
      "cell_type": "markdown",
      "id": "539dbfbb",
      "metadata": {},
      "source": [
        "`__init__(self, ...)`\n",
        "Este es el constructor de la clase y se llama automáticamente cuando se crea una instancia de la clase. Se utiliza para inicializar los atributos del objeto."
      ]
    },
    {
      "cell_type": "code",
      "execution_count": 220,
      "id": "39f721d0",
      "metadata": {},
      "outputs": [],
      "source": [
        "class Persona:\n",
        "    def __init__(self, nombre, edad):\n",
        "        self.nombre = nombre\n",
        "        self.edad = edad"
      ]
    },
    {
      "cell_type": "markdown",
      "id": "e8871121",
      "metadata": {},
      "source": [
        "`__str__(self)`\n",
        "Este método define el comportamiento de la función str() y la función print() al aplicar sobre instancias de la clase. Devuelve una cadena de texto que representa al objeto de una manera amigable para el usuario."
      ]
    },
    {
      "cell_type": "code",
      "execution_count": 221,
      "id": "907fcc88",
      "metadata": {},
      "outputs": [
        {
          "name": "stdout",
          "output_type": "stream",
          "text": [
            "Juan, 30 años\n"
          ]
        }
      ],
      "source": [
        "class Persona:\n",
        "    def __init__(self, nombre, edad):\n",
        "        self.nombre = nombre\n",
        "        self.edad = edad\n",
        "\n",
        "    def __str__(self):\n",
        "        return f\"{self.nombre}, {self.edad} años\"\n",
        "\n",
        "persona = Persona(\"Juan\", 30)\n",
        "print(persona)  # Output: Juan, 30 años\n"
      ]
    },
    {
      "cell_type": "markdown",
      "id": "77efdcd5",
      "metadata": {},
      "source": [
        "`__repr__(self)`\n",
        "Este método define el comportamiento de la función repr() y se utiliza para devolver una cadena de texto que representa al objeto de una manera que pueda ser evaluada por eval() para crear una instancia igual al original."
      ]
    },
    {
      "cell_type": "code",
      "execution_count": 222,
      "id": "c42c4696",
      "metadata": {},
      "outputs": [
        {
          "name": "stdout",
          "output_type": "stream",
          "text": [
            "Persona('Juan', 30)\n"
          ]
        }
      ],
      "source": [
        "class Persona:\n",
        "    def __init__(self, nombre, edad):\n",
        "        self.nombre = nombre\n",
        "        self.edad = edad\n",
        "\n",
        "    def __repr__(self):\n",
        "        return f\"Persona('{self.nombre}', {self.edad})\"\n",
        "\n",
        "persona = Persona(\"Juan\", 30)\n",
        "print(repr(persona))  # Output: Persona('Juan', 30)\n"
      ]
    },
    {
      "cell_type": "markdown",
      "id": "6e38307f",
      "metadata": {},
      "source": [
        "`__call__(self, ...)`\n",
        "Este método permite que una instancia de una clase sea llamada como una función."
      ]
    },
    {
      "cell_type": "code",
      "execution_count": 223,
      "id": "f7800654",
      "metadata": {},
      "outputs": [
        {
          "name": "stdout",
          "output_type": "stream",
          "text": [
            "Hola, Juan!\n"
          ]
        }
      ],
      "source": [
        "class Saludador:\n",
        "    def __init__(self, saludo):\n",
        "        self.saludo = saludo\n",
        "\n",
        "    def __call__(self, nombre):\n",
        "        return f\"{self.saludo}, {nombre}!\"\n",
        "\n",
        "saludador = Saludador(\"Hola\")\n",
        "print(saludador(\"Juan\"))  # Output: Hola, Juan!\n"
      ]
    },
    {
      "cell_type": "markdown",
      "id": "32aee48b",
      "metadata": {},
      "source": [
        "`__iter__(self) y __next__(self)`\n",
        "Estos métodos permiten que una instancia de una clase sea iterable, lo cual es útil para usar el objeto en bucles for."
      ]
    },
    {
      "cell_type": "code",
      "execution_count": 224,
      "id": "59da31e8",
      "metadata": {},
      "outputs": [
        {
          "name": "stdout",
          "output_type": "stream",
          "text": [
            "1\n",
            "2\n",
            "3\n",
            "4\n",
            "5\n"
          ]
        }
      ],
      "source": [
        "class Contador:\n",
        "    def __init__(self, max):\n",
        "        self.max = max\n",
        "        self.n = 0\n",
        "\n",
        "    def __iter__(self):\n",
        "        return self\n",
        "\n",
        "    def __next__(self):\n",
        "        if self.n < self.max:\n",
        "            self.n += 1\n",
        "            return self.n\n",
        "        else:\n",
        "            raise StopIteration\n",
        "\n",
        "contador = Contador(5)\n",
        "for numero in contador:\n",
        "    print(numero)  # Output: 1 2 3 4 5\n"
      ]
    },
    {
      "cell_type": "markdown",
      "id": "1e7ee9f7",
      "metadata": {},
      "source": [
        "### Resumen\n",
        "- __init__(self, ...): Constructor para inicializar instancias.\n",
        "- __str__(self): Devuelve una cadena legible y amigable para el usuario.\n",
        "- __repr__(self): Devuelve una cadena que representa al objeto de manera evaluable.\n",
        "- __call__(self, ...): Permite que una instancia sea llamada como una función.\n",
        "- __iter__(self): Devuelve un iterador.\n",
        "- __next__(self): Devuelve el siguiente elemento de un iterador.\n",
        "Estos métodos mágicos son esenciales para aprovechar al máximo la programación orientada a objetos en Python y permiten crear clases más útiles y comportamientos personalizados."
      ]
    },
    {
      "cell_type": "markdown",
      "id": "f9757961",
      "metadata": {
        "id": "f9757961"
      },
      "source": [
        "## POO Ejercicio 2:\n",
        "\n",
        "Reutilizad el código anterior del coche, pero esta vez vamos a añadirle un constructor. Vamos a añadirle un nuevo atributo que sea el color y otro que sea la matrícula. A la hora de instanciar la clase, deberíamos pasarle por parámetro cuál es el color y cuál la matrícula"
      ]
    },
    {
      "cell_type": "code",
      "execution_count": 225,
      "id": "e9309580",
      "metadata": {
        "id": "e9309580"
      },
      "outputs": [
        {
          "name": "stdout",
          "output_type": "stream",
          "text": [
            "El coche tiene 4 ruedas, 100 kilometraje(s) en total, 50 kilometraje(s) relativo, Color: Rojo, Matricula: XYZN0909\n",
            "La kilometraje total es 110 y la kilometraje relativa es 60\n",
            "kilometraje relativa reiniciada\n",
            "La kilometraje total es 110\n",
            "La kilometraje relativa ahora es 0\n"
          ]
        }
      ],
      "source": [
        "class Coche:\n",
        "    def __init__(self, num_ruedas, km_total, km_relativa, color, matricula):\n",
        "        self.num_ruedas = num_ruedas\n",
        "        self.km_total = km_total\n",
        "        self.km_relativa = km_relativa\n",
        "        self.color = color\n",
        "        self.matricula = matricula\n",
        "        print(f\"El coche tiene {num_ruedas} ruedas, {km_total} kilometraje(s) en total, {km_relativa} kilometraje(s) relativo, Color: {color}, Matricula: {matricula}\")\n",
        "\n",
        "    def movimiento(self):\n",
        "        self.km_total += 10\n",
        "        self.km_relativa +=10\n",
        "        print(f\"La kilometraje total es {self.km_total} y la kilometraje relativa es {self.km_relativa}\")\n",
        "\n",
        "    def reiniciar_km_relativa(self):\n",
        "        self.km_relativa = 0\n",
        "        print(\"kilometraje relativa reiniciada\")\n",
        "\n",
        "    def imprimir_km_total(self):\n",
        "        print(\"La kilometraje total es\", self.km_total)\n",
        "\n",
        "    def imprimir_km_relativa(self):\n",
        "        print(\"La kilometraje relativa ahora es\", self.km_relativa)\n",
        "\n",
        "coche1 = Coche(4, 100, 50, \"Rojo\", \"XYZN0909\") # Instacia el objeto en una variable\n",
        "coche1.movimiento() # usa el método para que se mueva el ojeto `coche1`\n",
        "coche1.reiniciar_km_relativa() \n",
        "coche1.imprimir_km_total()\n",
        "coche1.imprimir_km_relativa()"
      ]
    },
    {
      "cell_type": "markdown",
      "id": "f08c343f",
      "metadata": {},
      "source": [
        "Otras soluciones para el mismo ejercicio\n",
        "[Solución Alberto Carrillo](https://github.com/AI-School-F5-P3/Ejercicios_Python/blob/main/ejercicio_python_poo_v1.ipynb)"
      ]
    },
    {
      "cell_type": "code",
      "execution_count": 226,
      "id": "b89b16fb",
      "metadata": {},
      "outputs": [
        {
          "name": "stdout",
          "output_type": "stream",
          "text": [
            "0\n",
            "0\n",
            "10\n",
            "10\n",
            "10\n",
            "0\n"
          ]
        }
      ],
      "source": [
        "#Igual que codigo previo, añadiendo color y matricula\n",
        "class Coche:\n",
        "    #Definición de atributos\n",
        "    def __init__(self, ruedas, km_total, color, matricula, km_rel = 0): # Al definir un argumento por defecto, tiene que ir al final de la definición\n",
        "        self.ruedas = ruedas\n",
        "        self.km_total = km_total\n",
        "        self.km_rel = km_rel\n",
        "        self.color = color\n",
        "        self.matricula = matricula\n",
        "    #Definición de métodos\n",
        "    def movimiento(self):\n",
        "        self.km_total += 10\n",
        "        self.km_rel += 10\n",
        "    def restart(self):\n",
        "        self.km_rel = 0\n",
        "    def imprimir_total(self):\n",
        "        print(self.km_total)\n",
        "    def imprimir_relativo(self):\n",
        "        print(self.km_rel)\n",
        "\n",
        "\n",
        "#Pruebas de funcionamiento\n",
        "moto = Coche(2, 0, \"Azul\", \"2034HYT\", 0)\n",
        "\n",
        "moto.imprimir_total() #0\n",
        "moto.imprimir_relativo() #0\n",
        "moto.movimiento() \n",
        "moto.imprimir_total() #10\n",
        "moto.imprimir_relativo() #10\n",
        "moto.restart()\n",
        "moto.imprimir_total() #10\n",
        "moto.imprimir_relativo() #0"
      ]
    },
    {
      "cell_type": "markdown",
      "id": "0e568167",
      "metadata": {
        "id": "0e568167"
      },
      "source": [
        "## Encapsulación\n",
        "\n",
        "A veces podemos programar a una clase atributos que no queremos que sean accesibles desde fuera de la propia clase, queremos que solo sean accedidos y modificados por métodos de la propia clase.\n",
        "\n",
        "A eso se llama encapsular, porque te da la seguridad de que un atributo no es utilizado incorrectamente. Algunos lenguajes incorporan esto y tú les indicas si quieres que un atributo sea público o privado. Python sin embargo no, todos los atributos son siempre públicos y por tanto accesibles desde fuera. Lo que la comunidad ha resuelto es una convención. Siempre que queramos que un atributo sea privado, debe empezar por doble símbolo \\_. Por ejemplo: .\\_\\_contador.\n",
        "\n",
        "Esto no aumenta la seguridad, ya que como digo, no lo hace realmente público, pero si que es un aviso para otros desarrolladores de que un atributo no se debería modificar. Además, Python le cambia el nombre internament. Si yo tengo un atributo llamado .\\_\\_contador en una clase llamada MiClase, en vez de acceder a ella como MiClase.\\_\\_contador, debería acceder como MiClase.\\_MiClase\\_\\_contador. Esto se usa también por si creamos un atributo o método que entraría en conflicto con los que vienen en Python por defecto."
      ]
    },
    {
      "cell_type": "markdown",
      "id": "53a80044",
      "metadata": {
        "id": "53a80044"
      },
      "source": [
        "## POO Ejercicio 3:\n",
        "\n",
        "Programad una clase \"LogIn\" que al instanciarse te pida un nombre de usuario, una contraseña y un correo electrónico. El atributo de la contraseña debe ser privado una vez generado. Programad un atributo \"get_password\" que nos muestre la contraseña, pero hasheada (investigad qué es esto y cómo se hace en python), y otro método que me permita cambiar la contraseña"
      ]
    },
    {
      "cell_type": "markdown",
      "id": "3ce1299e",
      "metadata": {},
      "source": [
        "Para realizar este ejercicio, primero entendamos qué es el hashing. El hashing es una técnica que toma una entrada (o mensaje) y devuelve una longitud fija de caracteres que generalmente se llama hash value o resumen del mensaje. Una función de hash comúnmente utilizada es SHA-256, que se puede implementar en Python utilizando la biblioteca hashlib.\n",
        "\n"
      ]
    },
    {
      "cell_type": "markdown",
      "id": "179cd419",
      "metadata": {},
      "source": [
        "#### Clase LogIn\n",
        "- Vamos a crear una clase LogIn que solicitará un nombre de usuario, una contraseña y un correo electrónico al instanciarse. \n",
        "- La contraseña será un atributo privado, y la clase tendrá un método para obtener la contraseña hasheada (get_password) y otro para cambiar la contraseña (change_password)."
      ]
    },
    {
      "cell_type": "code",
      "execution_count": 227,
      "id": "73c0bad0",
      "metadata": {
        "id": "73c0bad0"
      },
      "outputs": [
        {
          "name": "stdout",
          "output_type": "stream",
          "text": [
            "Contraseña hasheada: 82ea81cfcd5a4b357420f3243cde1838fd029a2a61a0eed9a9d3f35616784f12\n",
            "Contraseña cambiada exitosamente.\n",
            "Nueva contraseña hasheada: 8a3a541c5922b0de381cc2cd440d07062b649131b119eeb717867727da724c5b\n"
          ]
        }
      ],
      "source": [
        "# Implementación\n",
        "import hashlib\n",
        "\n",
        "class LogIn:\n",
        "    def __init__(self, username, password, email):\n",
        "        self.username = username\n",
        "        self.__password = self.__hash_password(password)\n",
        "        self.email = email\n",
        "\n",
        "    def __hash_password(self, password):\n",
        "        \"\"\"Hashea la contraseña usando SHA-256\"\"\"\n",
        "        return hashlib.sha256(password.encode()).hexdigest()\n",
        "\n",
        "    def get_password(self):\n",
        "        \"\"\"Devuelve la contraseña hasheada\"\"\"\n",
        "        return self.__password\n",
        "\n",
        "    def change_password(self, old_password, new_password):\n",
        "        \"\"\"Permite cambiar la contraseña si la antigua contraseña es correcta\"\"\"\n",
        "        if self.__hash_password(old_password) == self.__password:\n",
        "            self.__password = self.__hash_password(new_password)\n",
        "            print(\"Contraseña cambiada exitosamente.\")\n",
        "        else:\n",
        "            print(\"La contraseña antigua es incorrecta.\")\n",
        "\n",
        "# Crear una instancia de la clase LogIn\n",
        "usuario = LogIn(\"usuario1\", \"mi_contraseña\", \"usuario1@correo.com\")\n",
        "\n",
        "# Obtener la contraseña hasheada\n",
        "print(\"Contraseña hasheada:\", usuario.get_password())\n",
        "\n",
        "# Cambiar la contraseña\n",
        "usuario.change_password(\"mi_contraseña\", \"nueva_contraseña\")\n",
        "\n",
        "# Verificar la nueva contraseña hasheada\n",
        "print(\"Nueva contraseña hasheada:\", usuario.get_password())\n"
      ]
    },
    {
      "cell_type": "markdown",
      "id": "46e8524a",
      "metadata": {},
      "source": [
        "#### Explicación\n",
        "- Método __init__: Inicializa los atributos username, __password (hasheada) y email.\n",
        "- Método __hash_password: Hashea la contraseña utilizando SHA-256.\n",
        "- Método get_password: Devuelve la contraseña hasheada.\n",
        "- Método change_password: Permite cambiar la contraseña si la antigua contraseña es correcta."
      ]
    },
    {
      "cell_type": "markdown",
      "id": "8a6afa6c",
      "metadata": {},
      "source": [
        "#### Uso\n",
        "- Creamos una instancia de LogIn proporcionando un nombre de usuario, una contraseña y un correo electrónico.\n",
        "- Podemos obtener la contraseña hasheada utilizando el método get_password.\n",
        "- Podemos cambiar la contraseña utilizando el método change_password, verificando primero la contraseña antigua.\n",
        "- Este diseño encapsula la contraseña como un atributo privado y proporciona métodos para acceder y modificar la contraseña de manera segura.\n",
        "\n",
        "-----------------------------------------------------------------------------------"
      ]
    },
    {
      "cell_type": "markdown",
      "id": "042a53fc",
      "metadata": {
        "id": "042a53fc"
      },
      "source": [
        "## Herencia\n",
        "\n",
        "Empezamos con las cosas que hace que este tipo de programación sea potente.\n",
        "\n",
        "A veces, y como sucede en la vida real, una clase puede pertenecer a una clase superior y compartir características con el resto de clases que también pertenecen a esa clase superior. Por ejemplo, aunque una moto y un coche son diferentes en que uno tiene 2 ruedas y el otro 2, ambos son vehículos, y como ambos son vehículos los dos se desplazan, los dos tienen un depósito de gasolina, los dos tienen un kilometraje, etc.\n",
        "\n",
        "Si quisiera programar una clase coche y una clase moto, tendría que repetir el mismo código y eso no es bueno. Imaginad que en vez de solo moto y coche quiero programar 20 tipos de vehículos, tendría que repetir el mismo código 20 veces. Eso aumenta las posibilidades de que en alguna clase me equivoque, y luego es difícil de detectar porque solo me enteraría al instanciar ese vehículo, y después tendría que revisar todo el código en busca del problema. Pero además imaginad que quiero hacer un cambio en la lógica de cómo se calcula la gasolina que queda en el depósito, tendría que repetir el cambio en cada vehículo.\n",
        "\n",
        "LA solución es la herencia. Yo puedo programar una clase Vehículo que incorpore lo que por defecto incorporan los vehículos. Después puedo indicar que la clase Coche heredaría de vehículo y tendría todo lo que tiene vehículo además de todo lo que le programe a Coche, y así con todos los tipos de vehículo que quiera programar. Si quiero hacer un cambio en por ejemplo la manera en que se calcula el kilometraje, lo cambio en la clase Vehículo y el cambio se propaga a los hijos sin que tenga que hacer nada más. El código se reduce y es mas limpio, mas legible y más mantenible."
      ]
    },
    {
      "cell_type": "markdown",
      "id": "09369611",
      "metadata": {
        "id": "09369611"
      },
      "source": [
        "## POO Ejercicio 4:\n",
        "\n",
        "Sois desarrolladores del nuevo juego de Pokémon. Hay 902 Pokémons actualmente (imagináos programar cada uno xD)\n",
        "\n",
        "De todas formas vamos a empezar desde 0. Tenéis que programar a Squirtle, Totodile, Mudkip (los tres, tipo agua), Charmander, Cyndaquil, Torchic (los tres, tipo fuego), Bulbasaur, Chikorita y Treecko (los tres tipo planta).\n",
        "\n",
        "Tendréis que programar primero una clase Pokemon. Todos los pokemon pueden atacar, tienen puntos de vida, pueden defenderse y tienen una lista de ataques. Todos conocen el ataque \"arañazo\". Tienen debilidades a algunos tipos y fortalezas contra otros tipos. Los Pokemon tipo planta saben el ataque \"látigo cepa\", son fuertes contra el agua y débiles contra el fuego (hacen el doble de daño al agua y la mitad al fuego, y viceversa, reciben el doble de daño por fuego y la mitad por agua). Los tipo fuego saben \"lanzallamas\", son débiles contra el agua pero fuertes contra tipo planta. Por último, los tipo agua saben el ataque \"pistola agua\", son fuertes contra fuego, pero débiles contra planta. Suena a muchísimo, pero con POO se simplifica muchísimo, si lo usáis correctamente ;)\n",
        "\n",
        "Pista: Las herencias se pueden dar por niveles"
      ]
    },
    {
      "cell_type": "markdown",
      "id": "3cb25f4a",
      "metadata": {},
      "source": [
        "Para implementar este ejercicio de Pokémon utilizando herencia en Python, comenzaremos con una clase base Pokemon que incluirá características y comportamientos comunes a todos los Pokémon. Luego, crearemos subclases específicas para los tipos de Pokémon (Agua, Fuego y Planta) que heredarán de Pokemon y agregarán comportamientos específicos."
      ]
    },
    {
      "cell_type": "markdown",
      "id": "a695f5a9",
      "metadata": {},
      "source": [
        "#### Clase Base: Pokemon\n",
        "La clase Pokemon incluirá los atributos y métodos comunes a todos los Pokémon, como puntos de vida, ataques y métodos para atacar y defenderse."
      ]
    },
    {
      "cell_type": "code",
      "execution_count": 228,
      "id": "8ca71ed0",
      "metadata": {
        "id": "8ca71ed0"
      },
      "outputs": [
        {
          "name": "stdout",
          "output_type": "stream",
          "text": [
            "Squirtle usa pistola agua contra Charmander!\n",
            "¡Es muy efectivo! Charmander recibe 40 de daño.\n",
            "Charmander ahora tiene 60 puntos de vida.\n",
            "Charmander usa lanzallamas contra Bulbasaur!\n",
            "¡Es muy efectivo! Bulbasaur recibe 60 de daño.\n",
            "Bulbasaur ahora tiene 40 puntos de vida.\n"
          ]
        }
      ],
      "source": [
        "class Pokemon:\n",
        "    def __init__(self, nombre, tipo, puntos_vida=100):\n",
        "        self.nombre = nombre\n",
        "        self.tipo = tipo\n",
        "        self.puntos_vida = puntos_vida\n",
        "        self.ataques = [\"arañazo\"]\n",
        "        self.debilidades = []\n",
        "        self.fortalezas = []\n",
        "\n",
        "    def atacar(self, otro_pokemon, ataque):\n",
        "        print(f\"{self.nombre} usa {ataque} contra {otro_pokemon.nombre}!\")\n",
        "\n",
        "    def recibir_danio(self, danio, tipo_ataque):\n",
        "        if tipo_ataque in self.debilidades:\n",
        "            danio *= 2\n",
        "            print(f\"¡Es muy efectivo! {self.nombre} recibe {danio} de daño.\")\n",
        "        elif tipo_ataque in self.fortalezas:\n",
        "            danio *= 0.5\n",
        "            print(f\"No es muy efectivo... {self.nombre} recibe {danio} de daño.\")\n",
        "        else:\n",
        "            print(f\"{self.nombre} recibe {danio} de daño.\")\n",
        "        \n",
        "        self.puntos_vida -= danio\n",
        "        print(f\"{self.nombre} ahora tiene {self.puntos_vida} puntos de vida.\")\n",
        "\n",
        "# Clase Tipo Agua\n",
        "class Agua(Pokemon):\n",
        "    def __init__(self, nombre):\n",
        "        super().__init__(nombre, tipo=\"agua\")\n",
        "        self.ataques.append(\"pistola agua\")\n",
        "        self.debilidades = [\"planta\"]\n",
        "        self.fortalezas = [\"fuego\"]\n",
        "\n",
        "# Clase Tipo Fuego\n",
        "class Fuego(Pokemon):\n",
        "    def __init__(self, nombre):\n",
        "        super().__init__(nombre, tipo=\"fuego\")\n",
        "        self.ataques.append(\"lanzallamas\")\n",
        "        self.debilidades = [\"agua\"]\n",
        "        self.fortalezas = [\"planta\"]\n",
        "\n",
        "# Clase Tipo Planta\n",
        "class Planta(Pokemon):\n",
        "    def __init__(self, nombre):\n",
        "        super().__init__(nombre, tipo=\"planta\")\n",
        "        self.ataques.append(\"látigo cepa\")\n",
        "        self.debilidades = [\"fuego\"]\n",
        "        self.fortalezas = [\"agua\"]\n",
        "\n",
        "# Instancias de Pokémon\n",
        "squirtle = Agua(\"Squirtle\")\n",
        "totodile = Agua(\"Totodile\")\n",
        "mudkip = Agua(\"Mudkip\")\n",
        "\n",
        "charmander = Fuego(\"Charmander\")\n",
        "cyndaquil = Fuego(\"Cyndaquil\")\n",
        "torchic = Fuego(\"Torchic\")\n",
        "\n",
        "bulbasaur = Planta(\"Bulbasaur\")\n",
        "chikorita = Planta(\"Chikorita\")\n",
        "treecko = Planta(\"Treecko\")\n",
        "\n",
        "# Ejemplo de batalla\n",
        "squirtle.atacar(charmander, \"pistola agua\")\n",
        "charmander.recibir_danio(20, \"agua\")\n",
        "\n",
        "charmander.atacar(bulbasaur, \"lanzallamas\")\n",
        "bulbasaur.recibir_danio(30, \"fuego\")\n"
      ]
    },
    {
      "cell_type": "markdown",
      "id": "cb3ac53f",
      "metadata": {},
      "source": [
        "##### Explicación\n",
        "- Clase Base Pokemon: Define los atributos y métodos comunes a todos los Pokémon, como nombre, tipo, puntos_vida, ataques, debilidades, fortalezas, atacar y recibir_danio.\n",
        "- Subclases Agua, Fuego y Planta: Cada una hereda de Pokemon y define ataques específicos, debilidades y fortalezas.\n",
        "\n",
        "\n",
        "##### Funcionamiento\n",
        "- Instanciación: Se crean instancias de diferentes Pokémon.\n",
        "- Ataque y Defensa: Los Pokémon pueden atacar y recibir daño considerando sus debilidades y fortalezas.\n",
        "\n",
        "Este diseño permite añadir fácilmente nuevos tipos de Pokémon y sus comportamientos específicos sin duplicar código, haciendo uso de la herencia para simplificar y organizar el código de manera eficiente.\n",
        "\n",
        "------------------------------------------------------------------------------------"
      ]
    },
    {
      "cell_type": "markdown",
      "id": "943e5ecb",
      "metadata": {
        "id": "943e5ecb"
      },
      "source": [
        "## Polimorfismo\n",
        "\n",
        "Esto es un poco abstracto de explicar, pero veréis que en aplicación es una chorrada.\n",
        "\n",
        "Cuando yo programo una función, si la llamo \"hacer_algo()\", entonces no puedo volver a crear ninguna otra función que se llame igual, porque sobreescribiría la primera (incluso si no, no es práctico). Probemos, ejecutad este código:"
      ]
    },
    {
      "cell_type": "code",
      "execution_count": 229,
      "id": "308384e6",
      "metadata": {
        "id": "308384e6",
        "outputId": "3a3bcbf9-a477-4fdb-fe02-2858926462a2"
      },
      "outputs": [
        {
          "name": "stdout",
          "output_type": "stream",
          "text": [
            "segunda funcion\n"
          ]
        }
      ],
      "source": [
        "def hacer_algo():\n",
        "    print(\"primera funcion\")\n",
        "\n",
        "def hacer_algo():\n",
        "    print(\"segunda funcion\")\n",
        "\n",
        "hacer_algo()"
      ]
    },
    {
      "cell_type": "markdown",
      "id": "c54f539b",
      "metadata": {
        "id": "c54f539b"
      },
      "source": [
        "Pasa igual con variables. Si creo otra variable con el mismo nombre, se sobreescribe. Esto puede ser un problema a veces, pero se soluciona con polimorfismo.\n",
        "\n",
        "Dentro del contexto de una clase, cada método tiene que tener un nombre diferente, para que no se pisen (eso es igual), pero como cada método pertenece a una clase, dos clases diferentes si que pueden tener métodos con el mismo nombre. Después, puedo llamar a esos métodos de manera genérica, sin saber exactamente a cuál de las posibles clases pertenece el objeto. Esto es porque dos cosas pueden hacer la misma acción pero de distinta manera o con diferente resultado. Investigad sobre ello, veréis que es más sencillo de lo que parece."
      ]
    },
    {
      "cell_type": "markdown",
      "id": "5e26404b",
      "metadata": {
        "id": "5e26404b"
      },
      "source": [
        "## POO Ejercicio 5:\n",
        "\n",
        "Programad una clase Vaca que tenga un método .cantar(). Cuando lo llamo, la vaca dirá \"Muuu!\". Ahora igual pero con perro, y en vez de \"Muuu\", dirá \"Guau!\". Ahora un gato que al llamar a .cantar(), diga \"Miau!\", un cerdo que diga \"Oink!\" y un pájaro que diga \"Pío\".\n",
        "\n",
        "Después instanciad cada animal en una variable, instanciad algunos animales repetidos. Con un bucle for, recorred esa lista de animales y hacedlos cantar :)"
      ]
    },
    {
      "cell_type": "markdown",
      "id": "1b99473e",
      "metadata": {},
      "source": [
        "El polimorfismo en programación orientada a objetos permite que diferentes clases puedan tener métodos con el mismo nombre, y estos métodos se comporten de manera diferente según la clase a la que pertenezcan. Esto es muy útil cuando queremos realizar la misma acción (como hacer que un animal cante) de diferentes maneras dependiendo del tipo de objeto.\n",
        "\n",
        "A continuación, implementaremos el ejercicio utilizando el concepto de polimorfismo.\n",
        "\n",
        "#### Implementación\n",
        "Primero, definimos las clases para cada animal con su método cantar."
      ]
    },
    {
      "cell_type": "code",
      "execution_count": 230,
      "id": "c10de78f",
      "metadata": {
        "id": "c10de78f"
      },
      "outputs": [
        {
          "name": "stdout",
          "output_type": "stream",
          "text": [
            "Muuu!\n",
            "Guau!\n",
            "Miau!\n",
            "Oink!\n",
            "Pío!\n",
            "Muuu!\n",
            "Guau!\n",
            "Miau!\n"
          ]
        }
      ],
      "source": [
        "class Vaca:\n",
        "    def cantar(self):\n",
        "        print(\"Muuu!\")\n",
        "\n",
        "class Perro:\n",
        "    def cantar(self):\n",
        "        print(\"Guau!\")\n",
        "\n",
        "class Gato:\n",
        "    def cantar(self):\n",
        "        print(\"Miau!\")\n",
        "\n",
        "class Cerdo:\n",
        "    def cantar(self):\n",
        "        print(\"Oink!\")\n",
        "\n",
        "class Pajaro:\n",
        "    def cantar(self):\n",
        "        print(\"Pío!\")\n",
        "\n",
        "\n",
        "# Luego, debemos crear instancias de cada clase y las almacenamos en una lista. Utilizamos un bucle for para recorrer la lista y hacer que cada animal cante.\n",
        "# Instancias de animales\n",
        "vaca1 = Vaca()\n",
        "perro1 = Perro()\n",
        "gato1 = Gato()\n",
        "cerdo1 = Cerdo()\n",
        "pajaro1 = Pajaro()\n",
        "\n",
        "# Instancias repetidas\n",
        "vaca2 = Vaca()\n",
        "perro2 = Perro()\n",
        "gato2 = Gato()\n",
        "\n",
        "# Lista de animales\n",
        "animales = [vaca1, perro1, gato1, cerdo1, pajaro1, vaca2, perro2, gato2]\n",
        "\n",
        "# Hacer que cada animal cante usando polimorfismo\n",
        "for animal in animales:\n",
        "    animal.cantar()\n"
      ]
    },
    {
      "cell_type": "markdown",
      "id": "32bf90d6",
      "metadata": {},
      "source": [
        "#### Explicación\n",
        "- Definición de Clases: Se definen cinco clases (Vaca, Perro, Gato, Cerdo, Pajaro), cada una con un método cantar que imprime el sonido correspondiente.\n",
        "- Instanciación: Se crean instancias de cada clase, incluyendo algunas instancias repetidas.\n",
        "- Lista de Animales: Se almacenan todas las instancias en una lista.\n",
        "Bucle for: Se recorre la lista y se llama al método cantar para cada instancia. Gracias al polimorfismo, Python llama al método cantar correspondiente a cada objeto, sin importar su tipo.\n",
        "\n",
        "- Este ejemplo demuestra cómo el polimorfismo permite que diferentes objetos con métodos del mismo nombre se comporten de manera distinta, según la clase a la que pertenecen. Esto es útil para escribir código más flexible y reutilizable."
      ]
    }
  ],
  "metadata": {
    "colab": {
      "provenance": []
    },
    "kernelspec": {
      "display_name": "Python 3 (ipykernel)",
      "language": "python",
      "name": "python3"
    },
    "language_info": {
      "codemirror_mode": {
        "name": "ipython",
        "version": 3
      },
      "file_extension": ".py",
      "mimetype": "text/x-python",
      "name": "python",
      "nbconvert_exporter": "python",
      "pygments_lexer": "ipython3",
      "version": "3.12.3"
    }
  },
  "nbformat": 4,
  "nbformat_minor": 5
}
