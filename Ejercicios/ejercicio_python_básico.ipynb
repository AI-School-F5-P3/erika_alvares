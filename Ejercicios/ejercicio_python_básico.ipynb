{
  "cells": [
    {
      "cell_type": "markdown",
      "id": "d4e025a0",
      "metadata": {
        "id": "d4e025a0"
      },
      "source": [
        "# Aprendemos Python Básico!!"
      ]
    },
    {
      "cell_type": "markdown",
      "id": "99241057",
      "metadata": {
        "id": "99241057"
      },
      "source": [
        "## Bienvenidxs a Jupyter!!\n",
        "\n",
        "Dedicándonos a la ciencia de datos, este entorno que tenemos para programar será un lugar común bastante habitual (aunque no el único).\n",
        "\n",
        "Jupyter (**JU**lia, **PYT**hon, **R**) es un entorno de programación dedicado a esos lenguajes y pensado para análisis de datos. Nos permite programar en celdas, que se pueden ejecutar de forma independiente, en vez de todo el programa de una. Debajo de cada celda, podemos ver el resultado de la ejecución. Así mismo, cada celda puede ser de uno de los diferentes lenguajes (Julia, R o Python) siempre que tengamos el kernel correspondiente (la extensión) instalada, o puede ser de Markdown.\n",
        "\n",
        "Markdown es un lenguaje que sirve para anotaciones (es en lo que está escrito este texto :D). Funciona como HTML pero simplificado y es muy cómodo de usar. La idea es que estamos haciendo ciencia (de datos, concretamente) y este es nuestro cuaderno de campo. No sólo hacemos experimentos, sino que los anotamos. Es decir, antes de escribir el código para dibujar una gráfica, añado una celda de anotación anunciando qué voy a hacer y por qué, qué resultado espero o qué quiero comprobar o qué pienso que va a ocurrir. Después una celda con el código, que al ejecutarse me devolverá la gráfica, y después otra celda de Markdown comentando las conclusiones. Esa es la buena práctica, porque si no, otra persona que lea mi cuaderno no entenderá nada, o yo mismo si ya han pasado un par de semanas es habitual no recordar por qué lancé tal o cual código.\n",
        "\n",
        "Información sobre Markdown: https://markdown.es/"
      ]
    },
    {
      "cell_type": "markdown",
      "id": "00e56613",
      "metadata": {
        "id": "00e56613"
      },
      "source": [
        "## Ejercicio 1: Markdown\n",
        "\n",
        "Añadid una celda de código en Markdown con vuestro nombre como título, \"Ejercicios Python como subtítulo\", qué os motiva a aprender IA y una lista con las cosas que esperáis aprender"
      ]
    },
    {
      "cell_type": "markdown",
      "id": "870a316a",
      "metadata": {},
      "source": [
        "# Erika Samara Alvares Angelim\n",
        "## Ejercicios Python como subtítulo\""
      ]
    },
    {
      "cell_type": "markdown",
      "id": "133ee370",
      "metadata": {},
      "source": [
        "### ¿Qué me motiva aprender IA?"
      ]
    },
    {
      "cell_type": "markdown",
      "id": "fd022902",
      "metadata": {},
      "source": [
        "- Escucha Social: Auditar en tiempo real las opiniones de mi marca en las Redes Sociales\n",
        "- Analisis de datos en tiempo real\n",
        "- Crear un interface parecida con Chatgpt pero que este integrada con la base de datos de mi empresa, donde pueda preguntar cosas de mi empresa y la IA contestar con base en mi BD\n",
        "- Etc"
      ]
    },
    {
      "cell_type": "markdown",
      "id": "bcf87888",
      "metadata": {
        "id": "bcf87888"
      },
      "source": [
        "## Variables y tipos\n",
        "\n",
        "Un programa no deja de ser un conjunto de instrucciones que reciben datos como entrada y los manipulan para dar otros datos como salida.\n",
        "\n",
        "Los datos son importantes. Un aspecto clave es que los datos de entrada no siempre los conocemos, o algunos parámetros de la ejecución de un programa pueden cambiar, es decir, son **variables**.\n",
        "\n",
        "Prácticamente cualquier lenguaje de programación nos permite definir datos con los que podemos operar pero son variables. Es más, es buena práctica nunca manejar el dato en sí, sino una variable en la que esté guardado y cuya definición sea clara (y muchas veces al comienzo del documento, como buena práctica, o en un archivo separado de variables).\n",
        "\n",
        "Para definir una variable, sencillamente escribimos un nombre y usamos el operador \"=\" para darle un valor.\n",
        "\n",
        "**Buenas prácticas:** por convención, el nombre debe empezar siempre por una letra (no número) y que ésta sea minúscula. El nombre tiene que ser lo más sencillo y descriptivo posible (si estoy trabajando con frutas, utilizar como nombre \"fruta\" en vez de \"var1\"). Los nombres deben ser lo más diferenciados posibles para no confundirlos (si tengo por un lado una furta individual y el total de frutas vendidas, en vez de llamarlo \"fruta\" y \"frutas\", llamarlo \"fruta\" y \"frutas_vendidas\". Por último, aunque en los ejemplos yo no lo he estado haciendo, es preferible que sean en inglés (\"fruit\", \"sold_fruits\")\n",
        "\n",
        "Así mismo, los datos pueden ser de diferentes tipos. El tipo del dato nos permitirá hacer unas cosas u otras con él"
      ]
    },
    {
      "cell_type": "markdown",
      "id": "bc41a365",
      "metadata": {
        "id": "bc41a365"
      },
      "source": [
        "## Ejercicio 2: Variables y tipos\n",
        "\n",
        "- Definir una variable de cada tipo posible (o más común) en Python (string, integer, float, list, tuple, dictionary, boolean)\n",
        "- Investigar qué es cada una, qué permite y qué no y qué posibles métodos podemos usar con ellas\n",
        "- Imprimir el tipo de cada variable definida y comprobar que es correcto\n",
        "- Ponerlo en común con la clase :)\n",
        "- Anotar lo que consideramos importante\n"
      ]
    },
    {
      "cell_type": "code",
      "execution_count": 1,
      "id": "3bec2670",
      "metadata": {
        "id": "3bec2670"
      },
      "outputs": [
        {
          "name": "stdout",
          "output_type": "stream",
          "text": [
            "Tipo de string_var: <class 'str'>\n",
            "Tipo de integer_var: <class 'int'>\n",
            "Tipo de float_var: <class 'float'>\n",
            "Tipo de list_var: <class 'list'>\n",
            "Tipo de tuple_var: <class 'tuple'>\n",
            "Tipo de dict_var: <class 'dict'>\n",
            "Tipo de boolean_var: <class 'bool'>\n"
          ]
        }
      ],
      "source": [
        "# Definición de variables\n",
        "string_var = \"Hola, mundo\"           # String\n",
        "integer_var = 42                     # Integer\n",
        "float_var = 3.14159                  # Float\n",
        "list_var = [1, 2, 3, 4, 5]           # List\n",
        "tuple_var = (1, 2, 3, 4, 5)          # Tuple\n",
        "dict_var = {\"nombre\": \"Alice\", \"edad\": 30}  # Dictionary\n",
        "boolean_var = True                   # Boolean\n",
        "\n",
        "# Impresión de tipos de variables\n",
        "print(f'Tipo de string_var: {type(string_var)}')\n",
        "print(f'Tipo de integer_var: {type(integer_var)}')\n",
        "print(f'Tipo de float_var: {type(float_var)}')\n",
        "print(f'Tipo de list_var: {type(list_var)}')\n",
        "print(f'Tipo de tuple_var: {type(tuple_var)}')\n",
        "print(f'Tipo de dict_var: {type(dict_var)}')\n",
        "print(f'Tipo de boolean_var: {type(boolean_var)}')\n"
      ]
    },
    {
      "cell_type": "markdown",
      "id": "4084ad0b",
      "metadata": {
        "id": "4084ad0b"
      },
      "source": [
        "## Operadores\n",
        "\n",
        "Como seguramente habréis visto, una vez tenemos datos, podemos hacer operaciones con ellos (obviamente), puesto que necesitaremos transformarlos.\n",
        "\n",
        "Podemos clasificar los operadores en tres tipos, matemáticos, comparadores, lógicos, de identidad y de membresía.\n",
        "\n",
        "Algunos nos devolverán un dato transformado (y dependiendo del tipo de dato). Otros nos devolverán un booleano (True o False) y servirán para cosas diferentes."
      ]
    },
    {
      "cell_type": "markdown",
      "id": "7c79394f",
      "metadata": {
        "id": "7c79394f"
      },
      "source": [
        "## Ejercicio 3: Operadores\n",
        "\n",
        "Investigad la lista de operadores y listadlos. Pensad usos que podríais darle. Jugad con ellos (¿qué pasa si sumo strings? ¿Qué pasa si multiplico un string por un integer? ¿Qué pasa si divido por 0? ¿Puedo guardar el resultado de una operación en una variable e imprimirla?)\n",
        "\n",
        "Se trata de hacer ciencia, o sea que experimentad. Después, ponemos en común lo aprendido y lo anotamos"
      ]
    },
    {
      "cell_type": "markdown",
      "id": "a17a0e02",
      "metadata": {},
      "source": [
        "### Suma de strings"
      ]
    },
    {
      "cell_type": "code",
      "execution_count": 2,
      "id": "4984b9c2",
      "metadata": {
        "id": "4984b9c2"
      },
      "outputs": [
        {
          "name": "stdout",
          "output_type": "stream",
          "text": [
            "Hola Mundo\n"
          ]
        }
      ],
      "source": [
        "result = \"Hola\" + \" Mundo\"\n",
        "print(result)  # Resultado: Hola Mundo"
      ]
    },
    {
      "cell_type": "markdown",
      "id": "4b7ea0cd",
      "metadata": {},
      "source": [
        "### Multiplicación de un string por un integer"
      ]
    },
    {
      "cell_type": "code",
      "execution_count": 3,
      "id": "d826996f",
      "metadata": {},
      "outputs": [
        {
          "name": "stdout",
          "output_type": "stream",
          "text": [
            "HolaHolaHola\n"
          ]
        }
      ],
      "source": [
        "result = \"Hola\" * 3\n",
        "print(result)  # Resultado: HolaHolaHola\n"
      ]
    },
    {
      "cell_type": "markdown",
      "id": "7b60b89c",
      "metadata": {},
      "source": [
        "### División por cero"
      ]
    },
    {
      "cell_type": "code",
      "execution_count": 4,
      "id": "e41822d6",
      "metadata": {},
      "outputs": [
        {
          "name": "stdout",
          "output_type": "stream",
          "text": [
            "division by zero\n"
          ]
        }
      ],
      "source": [
        "try:\n",
        "    result = 10 / 0\n",
        "except ZeroDivisionError as e:\n",
        "    print(e)  # Resultado: division by zero\n"
      ]
    },
    {
      "cell_type": "markdown",
      "id": "ba55306f",
      "metadata": {},
      "source": [
        "### Guardar el resultado de una operación en una variable e imprimirla"
      ]
    },
    {
      "cell_type": "code",
      "execution_count": 5,
      "id": "dee2e711",
      "metadata": {},
      "outputs": [
        {
          "name": "stdout",
          "output_type": "stream",
          "text": [
            "12\n"
          ]
        }
      ],
      "source": [
        "result = 5 + 7\n",
        "print(result)  # Resultado: 12\n"
      ]
    },
    {
      "cell_type": "markdown",
      "id": "ff03dae5",
      "metadata": {},
      "source": [
        "    ### Operadores de comparación"
      ]
    },
    {
      "cell_type": "code",
      "execution_count": 6,
      "id": "2a696521",
      "metadata": {},
      "outputs": [
        {
          "name": "stdout",
          "output_type": "stream",
          "text": [
            "True\n",
            "True\n",
            "True\n",
            "False\n",
            "True\n",
            "False\n"
          ]
        }
      ],
      "source": [
        "print(5 == 5)    # Resultado: True\n",
        "print(5 != 3)    # Resultado: True\n",
        "print(5 > 3)     # Resultado: True\n",
        "print(5 < 3)     # Resultado: False\n",
        "print(5 >= 5)    # Resultado: True\n",
        "print(5 <= 4)    # Resultado: False\n"
      ]
    },
    {
      "cell_type": "markdown",
      "id": "52b294a5",
      "metadata": {},
      "source": [
        "### Operadores lógicos"
      ]
    },
    {
      "cell_type": "code",
      "execution_count": 7,
      "id": "09b6a1ad",
      "metadata": {},
      "outputs": [
        {
          "name": "stdout",
          "output_type": "stream",
          "text": [
            "False\n",
            "True\n",
            "False\n"
          ]
        }
      ],
      "source": [
        "print(True and False)   # Resultado: False\n",
        "print(True or False)    # Resultado: True\n",
        "print(not True)         # Resultado: False\n"
      ]
    },
    {
      "cell_type": "markdown",
      "id": "8e076c4b",
      "metadata": {},
      "source": [
        "### Operadores de identidad"
      ]
    },
    {
      "cell_type": "code",
      "execution_count": 8,
      "id": "a22e9161",
      "metadata": {},
      "outputs": [
        {
          "name": "stdout",
          "output_type": "stream",
          "text": [
            "True\n",
            "False\n"
          ]
        }
      ],
      "source": [
        "a = [1, 2, 3]\n",
        "b = a\n",
        "c = [1, 2, 3]\n",
        "print(a is b)  # Resultado: True\n",
        "print(a is c)  # Resultado: False\n"
      ]
    },
    {
      "cell_type": "markdown",
      "id": "cd15780a",
      "metadata": {},
      "source": [
        "### Operadores de pertenencia"
      ]
    },
    {
      "cell_type": "code",
      "execution_count": 9,
      "id": "9f9a8fcf",
      "metadata": {},
      "outputs": [
        {
          "name": "stdout",
          "output_type": "stream",
          "text": [
            "True\n",
            "True\n"
          ]
        }
      ],
      "source": [
        "lista = [1, 2, 3, 4, 5]\n",
        "print(3 in lista)       # Resultado: True\n",
        "print(6 not in lista)   # Resultado: True\n"
      ]
    },
    {
      "cell_type": "markdown",
      "id": "4cdebce8",
      "metadata": {},
      "source": [
        "### Resumen\n",
        "- Suma de strings: Concatena las cadenas.\n",
        "- Multiplicación de strings por integers: Repite la cadena el número de veces especificado.\n",
        "- División por cero: Lanza una excepción ZeroDivisionError.\n",
        "- Guardar el resultado de una operación: Se puede guardar el resultado de cualquier operación en una variable y utilizarlo posteriormente.\n",
        "- Operadores de comparación: Son útiles para tomar decisiones basadas en las comparaciones de valores.\n",
        "- Operadores lógicos: Permiten combinar expresiones booleanas.\n",
        "- Operadores de identidad: Comprueban si dos variables referencian el mismo objeto.\n",
        "- Operadores de pertenencia: Verifican si un elemento está o no en una secuencia."
      ]
    },
    {
      "cell_type": "code",
      "execution_count": 10,
      "id": "31675463",
      "metadata": {},
      "outputs": [
        {
          "name": "stdout",
          "output_type": "stream",
          "text": [
            "Operadores Matemáticos\n",
            "Suma: 10 + 3 = 13\n",
            "Resta: 10 - 3 = 7\n",
            "Multiplicación: 10 * 3 = 30\n",
            "División: 10 / 3 = 3.3333333333333335\n",
            "División Entera: 10 // 3 = 3\n",
            "Módulo: 10 % 3 = 1\n",
            "Exponenciación: 10 ** 3 = 1000\n",
            "\n",
            "Operadores de Comparación\n",
            "Igual a: 10 == 3 = False\n",
            "Distinto de: 10 != 3 = True\n",
            "Mayor que: 10 > 3 = True\n",
            "Menor que: 10 < 3 = False\n",
            "Mayor o igual que: 10 >= 3 = True\n",
            "Menor o igual que: 10 <= 3 = False\n",
            "\n",
            "Operadores Lógicos\n",
            "AND lógico: True and False = False\n",
            "OR lógico: True or False = True\n",
            "NOT lógico: not True = False\n",
            "\n",
            "Operadores de Identidad\n",
            "Es (is): e is f = True\n",
            "No es (is not): e is not g = True\n",
            "\n",
            "Operadores de Membresía\n",
            "En (in): 2 in [1, 2, 3, 4, 5] = True\n",
            "No en (not in): 2 not in [1, 2, 3, 4, 5] = False\n"
          ]
        }
      ],
      "source": [
        "# Operadores Matemáticos\n",
        "a = 10\n",
        "b = 3\n",
        "\n",
        "print(\"Operadores Matemáticos\")\n",
        "print(f\"Suma: {a} + {b} = {a + b}\")                 # Suma\n",
        "print(f\"Resta: {a} - {b} = {a - b}\")                # Resta\n",
        "print(f\"Multiplicación: {a} * {b} = {a * b}\")       # Multiplicación\n",
        "print(f\"División: {a} / {b} = {a / b}\")             # División\n",
        "print(f\"División Entera: {a} // {b} = {a // b}\")    # División Entera\n",
        "print(f\"Módulo: {a} % {b} = {a % b}\")               # Módulo\n",
        "print(f\"Exponenciación: {a} ** {b} = {a ** b}\")     # Exponenciación\n",
        "\n",
        "# Operadores de Comparación\n",
        "print(\"\\nOperadores de Comparación\")\n",
        "print(f\"Igual a: {a} == {b} = {a == b}\")            # Igual a\n",
        "print(f\"Distinto de: {a} != {b} = {a != b}\")        # Distinto de\n",
        "print(f\"Mayor que: {a} > {b} = {a > b}\")            # Mayor que\n",
        "print(f\"Menor que: {a} < {b} = {a < b}\")            # Menor que\n",
        "print(f\"Mayor o igual que: {a} >= {b} = {a >= b}\")  # Mayor o igual que\n",
        "print(f\"Menor o igual que: {a} <= {b} = {a <= b}\")  # Menor o igual que\n",
        "\n",
        "# Operadores Lógicos\n",
        "c = True\n",
        "d = False\n",
        "\n",
        "print(\"\\nOperadores Lógicos\")\n",
        "print(f\"AND lógico: {c} and {d} = {c and d}\")       # AND lógico\n",
        "print(f\"OR lógico: {c} or {d} = {c or d}\")          # OR lógico\n",
        "print(f\"NOT lógico: not {c} = {not c}\")             # NOT lógico\n",
        "\n",
        "# Operadores de Identidad\n",
        "e = [1, 2, 3]\n",
        "f = e\n",
        "g = [1, 2, 3]\n",
        "\n",
        "print(\"\\nOperadores de Identidad\")\n",
        "print(f\"Es (is): e is f = {e is f}\")                # Es (mismo objeto)\n",
        "print(f\"No es (is not): e is not g = {e is not g}\") # No es (no mismo objeto)\n",
        "\n",
        "# Operadores de Membresía\n",
        "h = 2\n",
        "i = [1, 2, 3, 4, 5]\n",
        "\n",
        "print(\"\\nOperadores de Membresía\")\n",
        "print(f\"En (in): {h} in {i} = {h in i}\")            # En\n",
        "print(f\"No en (not in): {h} not in {i} = {h not in i}\")  # No en\n"
      ]
    },
    {
      "cell_type": "markdown",
      "id": "e5e4855e",
      "metadata": {
        "id": "e5e4855e"
      },
      "source": [
        "## Condicionales\n",
        "\n",
        "Probablemente, querremos que nuestro programa haga una cosa u otra en función de si una variable contiene un valor u otro. Esto es lo que le da juego a un programa y lo hace parecer inteligente (no sólo una calculadora).\n",
        "\n",
        "Por ejemplo, podemos tener un programa que todas las mañanas compruebe el stock de un almacén de azulejos. Si tengo en stock menos de un 20% del total, el programa puede hacer un pedido automáticamente. Pero si está por encima, no quiero que haga nada.\n",
        "\n",
        "Esto se puede complicar. Porque si es menos del 20% pero es un 0% es probable que haya un problema (en un día se están gastando más azulejos de los que da tiempo a reponer), entonces en ese caso especial puedo querer que el programa lance una alerta. Además si en dos días consecutivos el almacén no baja del mismo número de azulejos y además esos días no son fines de semana significa que no se está trabajando y eso es otro problema que requerirá de otra acción diferente.\n",
        "\n",
        "Estos temas pueden complicarse ad infinitum.\n",
        "\n",
        "Desde siempre en Python hemos contado con las cláusulas if/elif/else. Debéis investigar sobre ellas.\n",
        "\n",
        "En últimas versiones (desde 3.10), contamos con un switch case (que quizá os suene de otros lenguajes) con las cláusulas match/case, que es mucho más eficiente (algo clave cuando nos dedicamos a los datos). Investigad sobre ello también."
      ]
    },
    {
      "cell_type": "markdown",
      "id": "a555e1ef",
      "metadata": {
        "id": "a555e1ef"
      },
      "source": [
        "## Ejercicio 4: Condicionales\n",
        "\n",
        "Escribid el código de un programa para la puerta de un teatro que pregunte al usuario cuál es su edad. Si el usuario es menor de 10 años, no podrá entrar. Si es menor de 18, podrá entrar pero acompañado de un adulto. Si es mayor de 18 podrá entrar sin problema. El programa debe imprimir un mensaje diciendo si puede entrar o si tiene que ir acompañado.\n",
        "\n",
        "Por darle una vuelta más, podéis comprobar algunas cosas. Por ejemplo, no es razonable que una persona menor de 3 años rellene el formulario, así que será un error o alguien intentando engañar. Si es menos que 0, más de lo mismo. Tampoco parece razonable que lo rellene alguien mayor de 100 años, por ejemplo. ¿Qué pasa si el usuario introduce algo que no es un número? o con decimales.\n",
        "\n",
        "Al acabar, lo ponemos en común y anotamos lo que hemos aprendido."
      ]
    },
    {
      "cell_type": "code",
      "execution_count": 27,
      "id": "c0d80dd3",
      "metadata": {
        "id": "c0d80dd3"
      },
      "outputs": [
        {
          "name": "stdout",
          "output_type": "stream",
          "text": [
            "Esta edad (100) supera el limite maximo permitido\n"
          ]
        }
      ],
      "source": [
        "try:\n",
        "    edad = int(input(\"Informe su edad: \"))\n",
        "    if edad <= 3:\n",
        "        print(f\"Esta edad ({edad}) es inferior al limite inferior permitido\")\n",
        "    if edad < 10:\n",
        "        print(\"No puedes entrar\")\n",
        "    elif edad >= 10 and edad < 18:\n",
        "        print(\"Puedes entrar pero acompañado de un adulto\")\n",
        "    elif  edad >= 100 :\n",
        "        print(f\"Esta edad ({edad}) supera el limite maximo permitido\")\n",
        "    else:\n",
        "        print(\"Puedes entrar\")\n",
        "    \n",
        "\n",
        "except ValueError:\n",
        "    print(\"La edad informada no es un valor entero para edad!\")"
      ]
    },
    {
      "cell_type": "markdown",
      "id": "e4691d36",
      "metadata": {
        "id": "e4691d36"
      },
      "source": [
        "## Bucles\n",
        "\n",
        "Habitualmente necesitaremos ejecutar una misma tarea de manera repetida.\n",
        "\n",
        "Es importante entender que pueden darse dos situaciones:\n",
        "\n",
        "1. Necesito que una tarea se repita hasta que se cumpla una condición\n",
        "2. Necesito que una tarea se repita para cada elemento de una lista/tupla/diccionario/set\n",
        "\n",
        "En el primero de los casos, lo que necesito es un bucle while. Este evaluará una cláusula. Mientras esa cláusula se evalúe como True, el código seguirá repitiéndose.\n",
        "\n",
        "En el segundo, necesito un bucle for. Este bucle recorrerá el elemento que le pasemos y por cada vuelta guardará ese valor en una variable que puede ser manipulada dentro del propio bucle (es el más complicado de entender, pero el más común, así que detenéos el tiempo que sea necesario para entenderlo)"
      ]
    },
    {
      "cell_type": "markdown",
      "id": "ff2dd527",
      "metadata": {
        "id": "ff2dd527"
      },
      "source": [
        "## Ejercicio 5: Bucles\n",
        "\n",
        "Generad una lista de 10 números diferentes. Con un bucle, comprobad si el número es par o impar. Imprimid si es par o impar, y si es impar, multiplicadlo por dos para que sea par. Al final tiene que quedar una lista solo con números pares.\n",
        "\n",
        "Después cread una variable para la que su valor sea 0. Con un bucle, id añadiéndole 1 e imprimiendo el nuevo valor. El bucle debería parar cuando la variable valga 16"
      ]
    },
    {
      "cell_type": "code",
      "execution_count": 12,
      "id": "3bdd0978",
      "metadata": {
        "id": "3bdd0978"
      },
      "outputs": [
        {
          "name": "stdout",
          "output_type": "stream",
          "text": [
            "1 es impar.\n",
            "3 es impar.\n",
            "5 es impar.\n",
            "7 es impar.\n",
            "9 es impar.\n",
            "2 es par.\n",
            "4 es par.\n",
            "6 es par.\n",
            "8 es par.\n",
            "10 es par.\n",
            "Lista de números pares: [2, 6, 10, 14, 18, 2, 4, 6, 8, 10]\n",
            "Nuevo valor: 1\n",
            "Nuevo valor: 2\n",
            "Nuevo valor: 3\n",
            "Nuevo valor: 4\n",
            "Nuevo valor: 5\n",
            "Nuevo valor: 6\n",
            "Nuevo valor: 7\n",
            "Nuevo valor: 8\n",
            "Nuevo valor: 9\n",
            "Nuevo valor: 10\n",
            "Nuevo valor: 11\n",
            "Nuevo valor: 12\n",
            "Nuevo valor: 13\n",
            "Nuevo valor: 14\n",
            "Nuevo valor: 15\n",
            "Nuevo valor: 16\n"
          ]
        }
      ],
      "source": [
        "# PARTE 1\n",
        "\n",
        "# Genera una lista de 10 numeros diferentes\n",
        "numeros = [1, 3, 5, 7, 9, 2, 4, 6, 8, 10]\n",
        "\n",
        "# Crea una nueva lista para almacenar solo números pares\n",
        "numeros_pares = []\n",
        "\n",
        "# Comprobar si el numero es par\n",
        "for numero in numeros:\n",
        "    if numero % 2 == 0:\n",
        "        print(f\"{numero} es par.\")\n",
        "        numeros_pares.append(numero)\n",
        "    else:\n",
        "        print(f\"{numero} es impar.\")\n",
        "        numero_par = numero * 2 \n",
        "        # print(f\"Multiplicando {numero} por 2 para obtener {numero_par} \")\n",
        "        numeros_pares.append(numero_par)\n",
        "\n",
        "# Imprimir la lista final de números pares:\n",
        "print(\"Lista de números pares:\", numeros_pares)\n",
        "\n",
        "\n",
        "# PARTE 2\n",
        "valor = 0\n",
        "\n",
        "while valor < 16:\n",
        "    valor += 1\n",
        "    print(f\"Nuevo valor: {valor}\")"
      ]
    },
    {
      "cell_type": "markdown",
      "id": "1b47d11f",
      "metadata": {
        "id": "1b47d11f"
      },
      "source": [
        "## Funciones\n",
        "\n",
        "A veces, os daréis cuenta de que en distintas partes del código necesitáis hacer las mismas acciones. Programar la misma acción las veces que sean necesarias es lento, poco eficiente, difícil de mantener y propenso a errores.\n",
        "\n",
        "Es mejor encapsular el código en algo que pueda ser reutilizado. Eso son las funciones. Puedo definir una función, indicarle qué datos debe recibir, manipular esos datos en su interior y devolverlos cuando acabe. Por buenas prácticas, cada función debe realizar una sola función (valga la redundancia). Si una sola función hace dos cosas, debería separarla en dos funciones. Es muy recomendable comentarlas utilizando lo que en python se llaman docstrings (investigad lo que es). El nombre de la función debe ser descriptiva de lo que la función hace (y no se puede empezar por mayúsculas ni por números, por convención). Son muy importantes para, por ejemplo, evitar líos de anidación de bucles o de condicionales."
      ]
    },
    {
      "cell_type": "markdown",
      "id": "d790e2d5",
      "metadata": {
        "id": "d790e2d5"
      },
      "source": [
        "## Ejercicio 6: Funciones\n",
        "\n",
        "Escribir una función que reciba por parámetro el nombre de una persona completo con apellidos, su edad y la fecha de hoy. LA función debe separar el nombre de los apellidos, calcular el año de nacimiento y devolver una lista del tipo: [nombre, apellidos, año de nacimiento]"
      ]
    },
    {
      "cell_type": "code",
      "execution_count": 31,
      "id": "316fbd0c",
      "metadata": {
        "id": "316fbd0c"
      },
      "outputs": [
        {
          "name": "stdout",
          "output_type": "stream",
          "text": [
            "['Erika', 'Samara Alvares Angelim', 1976]\n"
          ]
        }
      ],
      "source": [
        "from datetime import datetime\n",
        "\n",
        "def procesar_datos(nombre_completo, edad, fecha_hoy):\n",
        "    # Separar nombre y apellidos\n",
        "    partes = nombre_completo.split()\n",
        "    nombre = partes[0]\n",
        "    apellidos = ' '.join(partes[1:]) if len(partes) > 1 else ''\n",
        "\n",
        "    # Calcular el año de nacimiento\n",
        "    año_actual = fecha_hoy.year\n",
        "    año_nacimiento = año_actual - edad\n",
        "\n",
        "    # Devolver la lista con el nombre, apellidos y año de nacimiento\n",
        "    return [nombre, apellidos, año_nacimiento]\n",
        "\n",
        "# Ejemplo de uso\n",
        "nombre_completo = \"Erika Samara Alvares Angelim\"\n",
        "edad = 48\n",
        "fecha_hoy = datetime.now()\n",
        "\n",
        "resultado = procesar_datos(nombre_completo, edad, fecha_hoy)\n",
        "print(resultado)  # Resultado: ['Erika', 'Samara Alvares Angelim', 1976]\n"
      ]
    },
    {
      "cell_type": "code",
      "execution_count": 35,
      "id": "6de0d503",
      "metadata": {},
      "outputs": [
        {
          "name": "stdout",
          "output_type": "stream",
          "text": [
            "['Elisiani', 'Alvares Angelim', 1982]\n"
          ]
        }
      ],
      "source": [
        "from datetime import datetime\n",
        "\n",
        "def procesar_datos(nombre_completo, edad, fecha_hoy):\n",
        "    # Separar nombre y apellidos\n",
        "    partes = nombre_completo.split()\n",
        "    nombre = partes[0]\n",
        "    apellidos = ' '.join(partes[1:]) if len(partes) > 1 else ''\n",
        "\n",
        "    # Calcular el año de nacimiento\n",
        "    año_actual = fecha_hoy.year\n",
        "    año_nacimiento = año_actual - edad\n",
        "\n",
        "    # Devolver la lista con el nombre, apellidos y año de nacimiento\n",
        "    return [nombre, apellidos, año_nacimiento]\n",
        "\n",
        "# Ejemplo de uso\n",
        "nombre_completo = input(\"Informe tu nombre y apellido: \")\n",
        "edad = int(input(\"Infome tu edad: \"))\n",
        "fecha_hoy = datetime.now() \n",
        "\n",
        "resultado = procesar_datos(nombre_completo, edad, fecha_hoy)\n",
        "print(resultado)  # Resultado: ['Erika', 'Samara Alvares Angelim', 1976]\n"
      ]
    }
  ],
  "metadata": {
    "colab": {
      "provenance": []
    },
    "kernelspec": {
      "display_name": "Python 3 (ipykernel)",
      "language": "python",
      "name": "python3"
    },
    "language_info": {
      "codemirror_mode": {
        "name": "ipython",
        "version": 3
      },
      "file_extension": ".py",
      "mimetype": "text/x-python",
      "name": "python",
      "nbconvert_exporter": "python",
      "pygments_lexer": "ipython3",
      "version": "3.12.3"
    }
  },
  "nbformat": 4,
  "nbformat_minor": 5
}
