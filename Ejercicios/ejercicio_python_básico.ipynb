{
  "cells": [
    {
      "cell_type": "markdown",
      "id": "d4e025a0",
      "metadata": {
        "id": "d4e025a0"
      },
      "source": [
        "# Aprendemos Python Básico!!"
      ]
    },
    {
      "cell_type": "markdown",
      "id": "99241057",
      "metadata": {
        "id": "99241057"
      },
      "source": [
        "## Bienvenidxs a Jupyter!!\n",
        "\n",
        "Dedicándonos a la ciencia de datos, este entorno que tenemos para programar será un lugar común bastante habitual (aunque no el único).\n",
        "\n",
        "Jupyter (**JU**lia, **PYT**hon, **R**) es un entorno de programación dedicado a esos lenguajes y pensado para análisis de datos. Nos permite programar en celdas, que se pueden ejecutar de forma independiente, en vez de todo el programa de una. Debajo de cada celda, podemos ver el resultado de la ejecución. Así mismo, cada celda puede ser de uno de los diferentes lenguajes (Julia, R o Python) siempre que tengamos el kernel correspondiente (la extensión) instalada, o puede ser de Markdown.\n",
        "\n",
        "Markdown es un lenguaje que sirve para anotaciones (es en lo que está escrito este texto :D). Funciona como HTML pero simplificado y es muy cómodo de usar. La idea es que estamos haciendo ciencia (de datos, concretamente) y este es nuestro cuaderno de campo. No sólo hacemos experimentos, sino que los anotamos. Es decir, antes de escribir el código para dibujar una gráfica, añado una celda de anotación anunciando qué voy a hacer y por qué, qué resultado espero o qué quiero comprobar o qué pienso que va a ocurrir. Después una celda con el código, que al ejecutarse me devolverá la gráfica, y después otra celda de Markdown comentando las conclusiones. Esa es la buena práctica, porque si no, otra persona que lea mi cuaderno no entenderá nada, o yo mismo si ya han pasado un par de semanas es habitual no recordar por qué lancé tal o cual código.\n",
        "\n",
        "Información sobre Markdown: https://markdown.es/"
      ]
    },
    {
      "cell_type": "markdown",
      "id": "00e56613",
      "metadata": {
        "id": "00e56613"
      },
      "source": [
        "## Ejercicio 1: Markdown\n",
        "\n",
        "Añadid una celda de código en Markdown con vuestro nombre como título, \"Ejercicios Python como subtítulo\", qué os motiva a aprender IA y una lista con las cosas que esperáis aprender"
      ]
    },
    {
      "cell_type": "code",
      "execution_count": null,
      "id": "913624e0",
      "metadata": {
        "id": "913624e0"
      },
      "outputs": [],
      "source": []
    },
    {
      "cell_type": "markdown",
      "id": "bcf87888",
      "metadata": {
        "id": "bcf87888"
      },
      "source": [
        "## Variables y tipos\n",
        "\n",
        "Un programa no deja de ser un conjunto de instrucciones que reciben datos como entrada y los manipulan para dar otros datos como salida.\n",
        "\n",
        "Los datos son importantes. Un aspecto clave es que los datos de entrada no siempre los conocemos, o algunos parámetros de la ejecución de un programa pueden cambiar, es decir, son **variables**.\n",
        "\n",
        "Prácticamente cualquier lenguaje de programación nos permite definir datos con los que podemos operar pero son variables. Es más, es buena práctica nunca manejar el dato en sí, sino una variable en la que esté guardado y cuya definición sea clara (y muchas veces al comienzo del documento, como buena práctica, o en un archivo separado de variables).\n",
        "\n",
        "Para definir una variable, sencillamente escribimos un nombre y usamos el operador \"=\" para darle un valor.\n",
        "\n",
        "**Buenas prácticas:** por convención, el nombre debe empezar siempre por una letra (no número) y que ésta sea minúscula. El nombre tiene que ser lo más sencillo y descriptivo posible (si estoy trabajando con frutas, utilizar como nombre \"fruta\" en vez de \"var1\"). Los nombres deben ser lo más diferenciados posibles para no confundirlos (si tengo por un lado una furta individual y el total de frutas vendidas, en vez de llamarlo \"fruta\" y \"frutas\", llamarlo \"fruta\" y \"frutas_vendidas\". Por último, aunque en los ejemplos yo no lo he estado haciendo, es preferible que sean en inglés (\"fruit\", \"sold_fruits\")\n",
        "\n",
        "Así mismo, los datos pueden ser de diferentes tipos. El tipo del dato nos permitirá hacer unas cosas u otras con él"
      ]
    },
    {
      "cell_type": "markdown",
      "id": "bc41a365",
      "metadata": {
        "id": "bc41a365"
      },
      "source": [
        "## Ejercicio 2: Variables y tipos\n",
        "\n",
        "- Definir una variable de cada tipo posible (o más común) en Python (string, integer, float, list, tuple, dictionary, boolean)\n",
        "- Investigar qué es cada una, qué permite y qué no y qué posibles métodos podemos usar con ellas\n",
        "- Imprimir el tipo de cada variable definida y comprobar que es correcto\n",
        "- Ponerlo en común con la clase :)\n",
        "- Anotar lo que consideramos importante\n"
      ]
    },
    {
      "cell_type": "code",
      "execution_count": null,
      "id": "3bec2670",
      "metadata": {
        "id": "3bec2670"
      },
      "outputs": [],
      "source": []
    },
    {
      "cell_type": "markdown",
      "id": "4084ad0b",
      "metadata": {
        "id": "4084ad0b"
      },
      "source": [
        "## Operadores\n",
        "\n",
        "Como seguramente habréis visto, una vez tenemos datos, podemos hacer operaciones con ellos (obviamente), puesto que necesitaremos transformarlos.\n",
        "\n",
        "Podemos clasificar los operadores en tres tipos, matemáticos, comparadores, lógicos, de identidad y de membresía.\n",
        "\n",
        "Algunos nos devolverán un dato transformado (y dependiendo del tipo de dato). Otros nos devolverán un booleano (True o False) y servirán para cosas diferentes."
      ]
    },
    {
      "cell_type": "markdown",
      "id": "7c79394f",
      "metadata": {
        "id": "7c79394f"
      },
      "source": [
        "## Ejercicio 3: Operadores\n",
        "\n",
        "Investigad la lista de operadores y listadlos. Pensad usos que podríais darle. Jugad con ellos (¿qué pasa si sumo strings? ¿Qué pasa si multiplico un string por un integer? ¿Qué pasa si divido por 0? ¿Puedo guardar el resultado de una operación en una variable e imprimirla?)\n",
        "\n",
        "Se trata de hacer ciencia, o sea que experimentad. Después, ponemos en común lo aprendido y lo anotamos"
      ]
    },
    {
      "cell_type": "code",
      "execution_count": null,
      "id": "4984b9c2",
      "metadata": {
        "id": "4984b9c2"
      },
      "outputs": [],
      "source": []
    },
    {
      "cell_type": "markdown",
      "id": "e5e4855e",
      "metadata": {
        "id": "e5e4855e"
      },
      "source": [
        "## Condicionales\n",
        "\n",
        "Probablemente, querremos que nuestro programa haga una cosa u otra en función de si una variable contiene un valor u otro. Esto es lo que le da juego a un programa y lo hace parecer inteligente (no sólo una calculadora).\n",
        "\n",
        "Por ejemplo, podemos tener un programa que todas las mañanas compruebe el stock de un almacén de azulejos. Si tengo en stock menos de un 20% del total, el programa puede hacer un pedido automáticamente. Pero si está por encima, no quiero que haga nada.\n",
        "\n",
        "Esto se puede complicar. Porque si es menos del 20% pero es un 0% es probable que haya un problema (en un día se están gastando más azulejos de los que da tiempo a reponer), entonces en ese caso especial puedo querer que el programa lance una alerta. Además si en dos días consecutivos el almacén no baja del mismo número de azulejos y además esos días no son fines de semana significa que no se está trabajando y eso es otro problema que requerirá de otra acción diferente.\n",
        "\n",
        "Estos temas pueden complicarse ad infinitum.\n",
        "\n",
        "Desde siempre en Python hemos contado con las cláusulas if/elif/else. Debéis investigar sobre ellas.\n",
        "\n",
        "En últimas versiones (desde 3.10), contamos con un switch case (que quizá os suene de otros lenguajes) con las cláusulas match/case, que es mucho más eficiente (algo clave cuando nos dedicamos a los datos). Investigad sobre ello también."
      ]
    },
    {
      "cell_type": "markdown",
      "id": "a555e1ef",
      "metadata": {
        "id": "a555e1ef"
      },
      "source": [
        "## Ejercicio 4: Condicionales\n",
        "\n",
        "Escribid el código de un programa para la puerta de un teatro que pregunte al usuario cuál es su edad. Si el usuario es menor de 10 años, no podrá entrar. Si es menor de 18, podrá entrar pero acompañado de un adulto. Si es mayor de 18 podrá entrar sin problema. El programa debe imprimir un mensaje diciendo si puede entrar o si tiene que ir acompañado.\n",
        "\n",
        "Por darle una vuelta más, podéis comprobar algunas cosas. Por ejemplo, no es razonable que una persona menor de 3 años rellene el formulario, así que será un error o alguien intentando engañar. Si es menos que 0, más de lo mismo. Tampoco parece razonable que lo rellene alguien mayor de 100 años, por ejemplo. ¿Qué pasa si el usuario introduce algo que no es un número? o con decimales.\n",
        "\n",
        "Al acabar, lo ponemos en común y anotamos lo que hemos aprendido."
      ]
    },
    {
      "cell_type": "code",
      "execution_count": null,
      "id": "c0d80dd3",
      "metadata": {
        "id": "c0d80dd3"
      },
      "outputs": [],
      "source": []
    },
    {
      "cell_type": "markdown",
      "id": "e4691d36",
      "metadata": {
        "id": "e4691d36"
      },
      "source": [
        "## Bucles\n",
        "\n",
        "Habitualmente necesitaremos ejecutar una misma tarea de manera repetida.\n",
        "\n",
        "Es importante entender que pueden darse dos situaciones:\n",
        "\n",
        "1. Necesito que una tarea se repita hasta que se cumpla una condición\n",
        "2. Necesito que una tarea se repita para cada elemento de una lista/tupla/diccionario/set\n",
        "\n",
        "En el primero de los casos, lo que necesito es un bucle while. Este evaluará una cláusula. Mientras esa cláusula se evalúe como True, el código seguirá repitiéndose.\n",
        "\n",
        "En el segundo, necesito un bucle for. Este bucle recorrerá el elemento que le pasemos y por cada vuelta guardará ese valor en una variable que puede ser manipulada dentro del propio bucle (es el más complicado de entender, pero el más común, así que detenéos el tiempo que sea necesario para entenderlo)"
      ]
    },
    {
      "cell_type": "markdown",
      "id": "ff2dd527",
      "metadata": {
        "id": "ff2dd527"
      },
      "source": [
        "## Ejercicio 5: Bucles\n",
        "\n",
        "Generad una lista de 10 números diferentes. Con un bucle, comprobad si el número es par o impar. Imprimid si es par o impar, y si es impar, multiplicadlo por dos para que sea par. Al final tiene que quedar una lista solo con números pares.\n",
        "\n",
        "Después cread una variable para la que su valor sea 0. Con un bucle, id añadiéndole 1 e imprimiendo el nuevo valor. El bucle debería parar cuando la variable valga 16"
      ]
    },
    {
      "cell_type": "code",
      "execution_count": null,
      "id": "3bdd0978",
      "metadata": {
        "id": "3bdd0978"
      },
      "outputs": [],
      "source": []
    },
    {
      "cell_type": "markdown",
      "id": "1b47d11f",
      "metadata": {
        "id": "1b47d11f"
      },
      "source": [
        "## Funciones\n",
        "\n",
        "A veces, os daréis cuenta de que en distintas partes del código necesitáis hacer las mismas acciones. Programar la misma acción las veces que sean necesarias es lento, poco eficiente, difícil de mantener y propenso a errores.\n",
        "\n",
        "Es mejor encapsular el código en algo que pueda ser reutilizado. Eso son las funciones. Puedo definir una función, indicarle qué datos debe recibir, manipular esos datos en su interior y devolverlos cuando acabe. Por buenas prácticas, cada función debe realizar una sola función (valga la redundancia). Si una sola función hace dos cosas, debería separarla en dos funciones. Es muy recomendable comentarlas utilizando lo que en python se llaman docstrings (investigad lo que es). El nombre de la función debe ser descriptiva de lo que la función hace (y no se puede empezar por mayúsculas ni por números, por convención). Son muy importantes para, por ejemplo, evitar líos de anidación de bucles o de condicionales."
      ]
    },
    {
      "cell_type": "markdown",
      "id": "d790e2d5",
      "metadata": {
        "id": "d790e2d5"
      },
      "source": [
        "## Ejercicio 6: Funciones\n",
        "\n",
        "Escribir una función que reciba por parámetro el nombre de una persona completo con apellidos, su edad y la fecha de hoy. LA función debe separar el nombre de los apellidos, calcular el año de nacimiento y devolver una lista del tipo: [nombre, apellidos, año de nacimiento]"
      ]
    },
    {
      "cell_type": "code",
      "execution_count": null,
      "id": "316fbd0c",
      "metadata": {
        "id": "316fbd0c"
      },
      "outputs": [],
      "source": []
    }
  ],
  "metadata": {
    "kernelspec": {
      "display_name": "Python 3 (ipykernel)",
      "language": "python",
      "name": "python3"
    },
    "language_info": {
      "codemirror_mode": {
        "name": "ipython",
        "version": 3
      },
      "file_extension": ".py",
      "mimetype": "text/x-python",
      "name": "python",
      "nbconvert_exporter": "python",
      "pygments_lexer": "ipython3",
      "version": "3.11.3"
    },
    "colab": {
      "provenance": []
    }
  },
  "nbformat": 4,
  "nbformat_minor": 5
}